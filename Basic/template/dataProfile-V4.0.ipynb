{
 "cells": [
  {
   "cell_type": "code",
   "execution_count": null,
   "metadata": {
    "collapsed": true
   },
   "outputs": [],
   "source": [
    "import warnings\n",
    "warnings.filterwarnings(\"ignore\")\n",
    "\n",
    "import pandas as pd\n",
    "import pandas_profiling\n",
    "from pandas_profiling.base import describe\n",
    "import numpy as np\n",
    "from sklearn.preprocessing import Imputer\n",
    "from sklearn import preprocessing\n",
    "from sklearn.preprocessing import StandardScaler\n",
    "from sklearn.preprocessing import MinMaxScaler\n",
    "from sklearn.preprocessing import MaxAbsScaler\n",
    "from sklearn.preprocessing import RobustScaler\n",
    "from sklearn.preprocessing import OneHotEncoder\n",
    "import json\n",
    "\n",
    "\n",
    "import json  \n",
    "\n",
    "#利用panas读取文件函数\n",
    "def createdf(filePath):\n",
    "    df = pd.read_csv(filePath)\n",
    "    return df\n",
    "\n",
    "#生成数据预览静态文件，并返回分析对象profile\n",
    "def createProfile(df,htmlFilePath):\n",
    "    profile = pandas_profiling.ProfileReport(df)\n",
    "    profile.to_file(outputfile=htmlFilePath)\n",
    "    return profile\n",
    "\n",
    "def createNVprofile(df):\n",
    "    profileNV = describe(df,check_correlation=False)#生成不包含相关变量分析对象profile，profile为list格式\n",
    "    return profileNV\n",
    "\n",
    "#数据预览函数\n",
    "def dataExplore(df):\n",
    "    data_explore = df.head()\n",
    "#     data_explore= df.sample(10)\n",
    "    return data_explore#生成json，需要传到前端展示\n",
    "\n",
    "#获取相关变量，并返回结果\n",
    "def getCorrVar(profile):\n",
    "    all_var = profile.description_set['variables']\n",
    "    var_colums = all_var.columns.tolist()\n",
    "    if(('correlation' in  var_colums) == True):\n",
    "        rej_var = profile.get_rejected_variables()\n",
    "        result = \"{\"+r'\"'+\"highCorr\"+r'\"'+\":[\"\n",
    "        for i, var_name in enumerate(rej_var):\n",
    "            if (i != 0):\n",
    "                result = result + \",\"\n",
    "            #相关性\n",
    "            result = result + \"{\"+r'\"'+\"corrValue\"+r'\"'+\":\"+r'\"'+str(all_var.ix[var_name]['correlation'])+r'\"'+\",\"\n",
    "            #变量\n",
    "            result = result + \"\"+r'\"'+\"varName\"+r'\"'+\":\"+r'\"'+var_name+r'\"'+\",\"\n",
    "            #相关变量\n",
    "            result = result + \"\"+r'\"'+\"corrVarName\"+r'\"'+\":\"+r'\"'+all_var.ix[var_name]['correlation_var']+r'\"'+\"}\"\n",
    "\n",
    "        result= result + \"]}\"\n",
    "    else:\n",
    "        result =\"{\"+r'\"'+\"varName\"+r'\"'+\":\"+r'\"'+\"not exist correlation variable\"+r'\"'+\"}\"\n",
    "    return  result\n",
    "    \n",
    "\n",
    "\n",
    "\n",
    "#选择要删除的相关变量\n",
    "def HandleVarCorr(df,cols):\n",
    "    if(len(cols)>0):\n",
    "        cols = cols.split(',')\n",
    "        for col in cols:\n",
    "            df.drop([col],axis = 1,inplace=True)\n",
    "    return df\n",
    "\n",
    "\n",
    "#获取NULL变量\n",
    "def getNullVar(profileNV):\n",
    "    #需要用到Profile，所以不能在删除列后的基础上获取Null比率，这样得到的还是全部列的空值比例\n",
    "#     all_var = profile.description_set['variables']#获取所有变量,返回值为DataFrame\n",
    "    all_var = profileNV['variables']\n",
    "    null_var = all_var.loc[all_var.p_missing >float(0)][['type','p_missing']]\n",
    "    result = \"\"\n",
    "    if(len(null_var)!=0):\n",
    "        result = null_var.to_json()\n",
    "    else:\n",
    "        result =\"{\"+r'\"'+\"type\"+r'\"'+\":\"+r'\"'+\"not exist null variable\"+r'\"'+\"}\"\n",
    "    return result\n",
    "\n",
    "#  空值处理函数\n",
    "def HandleVarNaN(df,col_input,constantvalue):\n",
    "    for col in col_input:\n",
    "        oper = col_input[col]\n",
    "        if(oper == 'drop'):\n",
    "            df.drop([col],axis = 1,inplace=True)\n",
    "        elif(oper == 'mean'):\n",
    "            df[col] = df[col].fillna(df[col].mean())\n",
    "        elif(oper == 'median'):\n",
    "            df[col] = df[col].fillna(df[col].median())\n",
    "        elif(oper == 'max'):\n",
    "            df[col] = df[col].fillna(df[col].max())\n",
    "        elif(oper == 'min'):\n",
    "            df[col] = df[col].fillna(df[col].min())\n",
    "        elif(oper == 'zero'):\n",
    "            df[col] = df[col].fillna(0)\n",
    "        elif(oper == 'constant'):\n",
    "            df[col] = df[col].fillna(constantvalue)\n",
    "    return df    \n",
    "            \n",
    "\n",
    "\n",
    "\n",
    "#获取需要标准的变量\n",
    "def getStandardVar(profileNV):\n",
    "#     all_var = profile.description_set['variables']#获取所有变量,返回值为DataFrame\n",
    "    all_var = profileNV['variables']\n",
    "    scaler_var =all_var[['type','std','mini_histogram']]\n",
    "    result = \"\"\n",
    "    if(len(scaler_var)!=0):\n",
    "        result = scaler_var.to_json()\n",
    "    else:\n",
    "        result = \"{'type':'not exist need standard variable'}\"\n",
    "    return result\n",
    "\n",
    "\n",
    "\n",
    "#数据处理函数，调用入口为StandardApply\n",
    "# 需要在前端根据返回的需要标准化的变量，数值类（NUM）显示：包括Standarded、MinMax、MaxAbs、Robust，分类（CAT）：One-Hot Encoding\n",
    "# ‘标准化’：‘Standarded’，‘最小-最大规范化’：‘MinMax’，‘绝对值最大标准化’：‘MaxAbs’，‘Robust标准化‘：‘Robust’，‘最小-最大规范化’：‘OneHotEncoding’\n",
    "\n",
    "#StandardScaler\n",
    "def Standarded(df,col,copy=True, with_mean=True, with_std=True):\n",
    "    scaler = StandardScaler(copy,with_mean,with_std)\n",
    "    newArray =scaler.fit_transform(df[col])\n",
    "    df[col] = pd.DataFrame(newArray)\n",
    "    df[col] = newArray.reshape(-1,1)\n",
    "    return df\n",
    "\n",
    "#MinMaxScaler\n",
    "def MinMax(df,col,eature_range=(0, 1), copy=True):\n",
    "    scaler =MinMaxScaler(eature_range,copy)\n",
    "    newArray =scaler.fit_transform(df[col])\n",
    "    df[col] = pd.DataFrame(newArray)\n",
    "    return df\n",
    "\n",
    "#MaxAbsScaler\n",
    "def MaxAbs(df,col,copy=True):\n",
    "    scaler =MaxAbsScaler(copy)\n",
    "    newArray =scaler.fit_transform(df[col])\n",
    "    df[col] = pd.DataFrame(newArray)\n",
    "    return df\n",
    "\n",
    "#RobustScaler\n",
    "def Robust(df,col,with_centering=True, with_scaling=True, quantile_range=(25.0, 75.0), copy=True):\n",
    "    scaler =RobustScaler(with_centering,with_scaling,quantile_range,copy)\n",
    "    newArray =scaler.fit_transform(df[col])\n",
    "    df[col] = pd.DataFrame(newArray)\n",
    "    return df\n",
    "def OneHotEncoding(df,col):\n",
    "    ohe_var = pd.get_dummies(df[col])\n",
    "    df.drop([col],axis = 1,inplace=True)\n",
    "    df = df.join(ohe_var)\n",
    "    return df\n",
    "\n",
    "def StandardApply(df,cols_oper):\n",
    "    for col in cols_oper:\n",
    "        Standard = cols_oper[col]\n",
    "        if(Standard=='Standarded'):\n",
    "            df = Standarded(df,col)\n",
    "        elif(Standard=='MinMax'):\n",
    "            df=MinMax(df,col)\n",
    "        elif(Standard=='MaxAbs'):\n",
    "            df=MaxAbs(df,col)\n",
    "        elif(Standard=='Robust'):\n",
    "            df=Robust(df,col) \n",
    "        elif(Standard=='OneHotEncoding'):\n",
    "            df=OneHotEncoding(df,col)\n",
    "    return df\n",
    "\n",
    "#获取工程的统计信息：\n",
    "def projectDesc(df,profile):\n",
    "    rows_count = df.count().max() # 行数\n",
    "    cols_count = len(df.columns.tolist())# 列数\n",
    "    \n",
    "    all_var = profile.description_set['variables']\n",
    "    num_count = all_var.loc[all_var['type'] == 'NUM'].count().max() # 数值型变量数\n",
    "    cat_count = all_var.loc[all_var['type'] == 'CAT'].count().max() #类别型变量数\n",
    "    null_scale  = float('%.2f' % (all_var['p_missing'].sum()/all_var['p_missing'].count()))#空值比例\n",
    "    \n",
    "    proDesc = {\"rows_count\":rows_count, \"cols_count\": cols_count, \"num_count\":num_count,\"cat_count\":cat_count,\"null_scale\":null_scale}\n",
    "   \n",
    "    return proDesc"
   ]
  },
  {
   "cell_type": "code",
   "execution_count": null,
   "metadata": {
    "collapsed": true,
    "scrolled": true
   },
   "outputs": [],
   "source": [
    "#step1:define file and htmlfilepath\n",
    "\n",
    "filePath=\n",
    "htmlFilePath=\n",
    "\n",
    "df = createdf(filePath)\n",
    "#利用pandas_profiling生成报告\n",
    "profile = createProfile(df,htmlFilePath)\n",
    "# step2:data explore （数据预览）\n",
    "dataExplore(df)"
   ]
  },
  {
   "cell_type": "code",
   "execution_count": null,
   "metadata": {
    "collapsed": true
   },
   "outputs": [],
   "source": [
    "# step3:get correlation variables（获取相关变量）\n",
    "getCorrVar(profile)"
   ]
  },
  {
   "cell_type": "code",
   "execution_count": null,
   "metadata": {
    "collapsed": true
   },
   "outputs": [],
   "source": [
    "#step4：delete choice correlation variables（删除已选择的相关变量）\n",
    "deleteCols=\n",
    "df = HandleVarCorr(df,deleteCols)\n",
    "df.head()"
   ]
  },
  {
   "cell_type": "code",
   "execution_count": null,
   "metadata": {
    "collapsed": true
   },
   "outputs": [],
   "source": [
    "#step5：get null variables（获取空值变量）\n",
    "profileNV = createNVprofile(df)\n",
    "getNullVar(profileNV)"
   ]
  },
  {
   "cell_type": "code",
   "execution_count": null,
   "metadata": {
    "collapsed": true
   },
   "outputs": [],
   "source": [
    "# step6：fill null variables （空值处理）\n",
    "# NUM 类型变量处理方式：'不处理': no,‘删除’:drop, '平均值':mean, '中位值':'median', '最大值':'max', '最小值':'min', '零值':'zero'\n",
    "#其他类型变量处理方式：'不处理': no,‘删除’:drop,‘插入固定值’：‘constant’\n",
    "#需要根据返回给前端的需要处理的空值变量类型判断，NUM类型显示：不处理',‘删除’, '平均值', '中位值', '最大值', '最小值', '零值',其他类型变量：‘不处理’,‘删除’,'插入固定值'\n",
    "col_input=\n",
    "constantvalue = 0\n",
    "df = HandleVarNaN(df,col_input,constantvalue)\n",
    "df.head()"
   ]
  },
  {
   "cell_type": "code",
   "execution_count": null,
   "metadata": {
    "collapsed": true
   },
   "outputs": [],
   "source": [
    "#step7：get Standard variables（获取需要标准化的变量）\n",
    "profileNV = createNVprofile(df)\n",
    "getStandardVar(profileNV)"
   ]
  },
  {
   "cell_type": "code",
   "execution_count": null,
   "metadata": {
    "collapsed": true
   },
   "outputs": [],
   "source": [
    "#step8：variables  standard（变量标准化）\n",
    "col_input =\n",
    "df = StandardApply(df,col_input)\n",
    "#预览\n",
    "dataExplore(df)"
   ]
  },
  {
   "cell_type": "code",
   "execution_count": null,
   "metadata": {
    "collapsed": true
   },
   "outputs": [],
   "source": [
    "#step9：save output file（保存输出文件）\n",
    "outputFilePath=\"ConverData.csv\"\n",
    "df.to_csv(outputFilePath,index=False)"
   ]
  },
  {
   "cell_type": "code",
   "execution_count": null,
   "metadata": {
    "collapsed": true
   },
   "outputs": [],
   "source": [
    "#step10 :save project desc(工程描述性信息)\n",
    "projectDesc(df,profile)"
   ]
  }
 ],
 "metadata": {
  "kernelspec": {
   "display_name": "Python 2",
   "language": "python",
   "name": "python2"
  },
  "language_info": {
   "codemirror_mode": {
    "name": "ipython",
    "version": 2
   },
   "file_extension": ".py",
   "mimetype": "text/x-python",
   "name": "python",
   "nbconvert_exporter": "python",
   "pygments_lexer": "ipython2",
   "version": "2.7.13"
  }
 },
 "nbformat": 4,
 "nbformat_minor": 2
}
