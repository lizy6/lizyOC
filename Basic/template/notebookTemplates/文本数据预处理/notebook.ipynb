{
 "cells": [
  {
   "cell_type": "code",
   "execution_count": 1,
   "metadata": {
    "collapsed": true
   },
   "outputs": [],
   "source": [
    "import ipywidgets as widgets\n",
    "from IPython.display import display\n",
    "import pandas as pd\n",
    "from data_text_process import *"
   ]
  },
  {
   "cell_type": "markdown",
   "metadata": {},
   "source": [
    "## 准备工作\n",
    "* 安装分词工具包：jieba\n",
    "\n",
    "## Step 1 - 读取默认数据文件\n",
    "* 样例数据123.txt\n",
    "* content1：文本字段，需要选择分词处理\n",
    "* 其他字段：结构化数据\n",
    "\n",
    "## Step 2 - 设置处理方式\n",
    "* 处理方式：分类标签、离散型、连续性、文本型数据\n",
    "* 分类标签：选择指定作为文本分类的字段\n",
    "* 离散、连续型：sklearn DictVectorizer对特征字段one-hot编码\n",
    "* 文本：sklearn 根据文本的处理方式配置参数选择CountVectorizer,TfidfVectorizer对文本进行one-hot编码\n",
    "\n",
    "* 注：分类标签字段只能选择数据的一列，特征字段至少选择一列\n",
    "\n",
    "## Step 3 - 设置文本分词特征\n",
    "* 设置文本特征权值取值方案、N-gram文法N取值\n",
    "\n",
    "## 结果保存\n",
    "* 默认存储到当前目录\n",
    "* model.pkl:特征处理方式，以及相关的字典等信息保存到文件\n",
    "* train_data.pkl:预处理后可以直接输入到分类模块的数据集"
   ]
  },
  {
   "cell_type": "code",
   "execution_count": 2,
   "metadata": {},
   "outputs": [
    {
     "data": {
      "application/vnd.jupyter.widget-view+json": {
       "model_id": "65541a6d2b5f451991421bc28c6aed7b"
      }
     },
     "metadata": {},
     "output_type": "display_data"
    }
   ],
   "source": [
    "data = DataProcess('test1.csv')\n",
    "data.process_widget()"
   ]
  },
  {
   "cell_type": "code",
   "execution_count": null,
   "metadata": {
    "collapsed": true
   },
   "outputs": [],
   "source": []
  }
 ],
 "metadata": {
  "kernelspec": {
   "display_name": "Python 3",
   "language": "python",
   "name": "python3"
  },
  "language_info": {
   "codemirror_mode": {
    "name": "ipython",
    "version": 3
   },
   "file_extension": ".py",
   "mimetype": "text/x-python",
   "name": "python",
   "nbconvert_exporter": "python",
   "pygments_lexer": "ipython3",
   "version": "3.6.0"
  },
  "widgets": {
   "state": {
    "5c3c40d242bc4f7eabb603141c83fc46": {
     "views": [
      {
       "cell_index": 2
      }
     ]
    }
   },
   "version": "1.2.0"
  }
 },
 "nbformat": 4,
 "nbformat_minor": 2
}
